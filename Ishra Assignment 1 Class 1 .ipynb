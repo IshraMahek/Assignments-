{
 "cells": [
  {
   "cell_type": "markdown",
   "metadata": {},
   "source": [
    "# Python Program 1"
   ]
  },
  {
   "cell_type": "code",
   "execution_count": 1,
   "metadata": {},
   "outputs": [
    {
     "name": "stdout",
     "output_type": "stream",
     "text": [
      "Twinkle, twinkle, little star,\n",
      "      How I wonder what you are!\n",
      "                  Up about the world so high,\n",
      "                  Like a diamond in the sky.\n",
      "Twinkle, twinkle, little star,\n",
      "      How I wonder what you are!\n"
     ]
    }
   ],
   "source": [
    "\n",
    "\n",
    "print(\"Twinkle, twinkle, little star,\") \n",
    "print(\"      How I wonder what you are!\")\n",
    "print(\"                  Up about the world so high,\")\n",
    "print(\"                  Like a diamond in the sky.\")\n",
    "print(\"Twinkle, twinkle, little star,\") \n",
    "print(\"      How I wonder what you are!\")"
   ]
  },
  {
   "cell_type": "markdown",
   "metadata": {},
   "source": [
    "# Program 2"
   ]
  },
  {
   "cell_type": "code",
   "execution_count": 4,
   "metadata": {},
   "outputs": [
    {
     "name": "stdout",
     "output_type": "stream",
     "text": [
      "The Python Version Is  3.7.3\n"
     ]
    }
   ],
   "source": [
    "from platform import python_version\n",
    "print(\"The Python Version Is \",python_version());"
   ]
  },
  {
   "cell_type": "markdown",
   "metadata": {},
   "source": [
    "# program 3"
   ]
  },
  {
   "cell_type": "code",
   "execution_count": 5,
   "metadata": {},
   "outputs": [
    {
     "name": "stdout",
     "output_type": "stream",
     "text": [
      "Current Date & Time Is  2022-01-01 21:50:26.629420\n"
     ]
    }
   ],
   "source": [
    "from datetime  import datetime\n",
    "print(\"Current Date & Time Is \", datetime.today())"
   ]
  },
  {
   "cell_type": "markdown",
   "metadata": {},
   "source": [
    "# program 4"
   ]
  },
  {
   "cell_type": "code",
   "execution_count": null,
   "metadata": {},
   "outputs": [],
   "source": []
  },
  {
   "cell_type": "code",
   "execution_count": 5,
   "metadata": {},
   "outputs": [
    {
     "name": "stdout",
     "output_type": "stream",
     "text": [
      "Enter First Value : 34\n",
      "Enter Last Value  : -35\n",
      "Your value Is =   -1\n"
     ]
    }
   ],
   "source": [
    "a = int(input(\"Enter First Value : \"))\n",
    "b = int(input(\"Enter Last Value  : \"))\n",
    "print(\"Your value Is =  \", a + b)"
   ]
  },
  {
   "cell_type": "markdown",
   "metadata": {},
   "source": [
    "# program 5"
   ]
  },
  {
   "cell_type": "code",
   "execution_count": 2,
   "metadata": {},
   "outputs": [
    {
     "name": "stdout",
     "output_type": "stream",
     "text": [
      "Enter First Name: ISHRA\n",
      "Enter Last Name: MEHAK\n",
      "Your Reverse Name Is ('MEHAK', 'ISHRA')\n"
     ]
    }
   ],
   "source": [
    "a = str(input(\"Enter First Name: \"))\n",
    "b = str(input(\"Enter Last Name: \"))\n",
    "c = b , a\n",
    "\n",
    "print(\"Your Reverse Name Is\",c)"
   ]
  },
  {
   "cell_type": "code",
   "execution_count": null,
   "metadata": {},
   "outputs": [],
   "source": []
  },
  {
   "cell_type": "code",
   "execution_count": null,
   "metadata": {},
   "outputs": [],
   "source": []
  }
 ],
 "metadata": {
  "kernelspec": {
   "display_name": "Python 3 (ipykernel)",
   "language": "python",
   "name": "python3"
  },
  "language_info": {
   "codemirror_mode": {
    "name": "ipython",
    "version": 3
   },
   "file_extension": ".py",
   "mimetype": "text/x-python",
   "name": "python",
   "nbconvert_exporter": "python",
   "pygments_lexer": "ipython3",
   "version": "3.9.7"
  }
 },
 "nbformat": 4,
 "nbformat_minor": 2
}
